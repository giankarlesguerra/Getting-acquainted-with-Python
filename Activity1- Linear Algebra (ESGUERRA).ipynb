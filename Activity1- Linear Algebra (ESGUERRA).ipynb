{
 "cells": [
  {
   "cell_type": "markdown",
   "metadata": {},
   "source": [
    "# Linear Algebra (CpE210A)"
   ]
  },
  {
   "cell_type": "markdown",
   "metadata": {},
   "source": [
    "## Laboratory 1: Getting acquainted with Python"
   ]
  },
  {
   "cell_type": "markdown",
   "metadata": {},
   "source": [
    "Coded and Submiited by:\n",
    "\n",
    "_Esguerra, Gian Karl J._\n",
    "\n",
    "_58011_"
   ]
  },
  {
   "cell_type": "markdown",
   "metadata": {},
   "source": [
    "#### Lab Exercises:"
   ]
  },
  {
   "cell_type": "code",
   "execution_count": 27,
   "metadata": {},
   "outputs": [
    {
     "name": "stdout",
     "output_type": "stream",
     "text": [
      "Charmander at level 15\n",
      "Pidgey at level 11\n",
      "Sandshrew at level 18\n",
      "Rattata at level 5\n",
      "Abra at level 14\n"
     ]
    }
   ],
   "source": [
    "party = ['Charmander', 'Pidgey', 'Sandshrew', 'Rattata', 'Abra']\n",
    "levels = [15, 11, 18, 5, 14]\n",
    "for pokemon in range(len(party)):  #I used range() function because this is commonly used in for looping and it can generate sequence of number.\n",
    "                                   #I used the (len) method to returns the number of items in an object.\n",
    "    print (party[pokemon], \"at level\",levels[pokemon]); \n"
   ]
  },
  {
   "cell_type": "code",
   "execution_count": 8,
   "metadata": {},
   "outputs": [
    {
     "name": "stdout",
     "output_type": "stream",
     "text": [
      "(('Unown', 50), ('Magikarp', 32), ('Feebas', 22))\n"
     ]
    }
   ],
   "source": [
    "reserves = [\n",
    "    ('Onix',10),\n",
    "    ('Slowpoke',18),\n",
    "    ('Dialga', 2),\n",
    "    ('Magikarp', 32),\n",
    "    ('Feebas', 22),\n",
    "    ('Swablu', 19),\n",
    "    ('Regigigas', 3),\n",
    "    ('Unown', 50)\n",
    "]\n",
    "level = lambda reserves: reserves[1]      #The used of sort() function here is to change the list into a descending order or to ascending order\n",
    "reserves.sort (key = level, reverse = True) # If the reverse is true the list are in desceding order, if the reverse is false the list are in ascending order\n",
    "pick= reserves[0],reserves[1],reserves[2]\n",
    "print (pick)"
   ]
  },
  {
   "cell_type": "code",
   "execution_count": 31,
   "metadata": {},
   "outputs": [
    {
     "name": "stdout",
     "output_type": "stream",
     "text": [
      "['Charmander', 'Pidgey', 'Sandshrew', 'Rattata', 'Abra', ('Unown', 50)]\n",
      "['Charmander', 'Pidgey', 'Sandshrew', 'Rattata', 'Abra', ('Magikarp', 32)]\n",
      "['Charmander', 'Pidgey', 'Sandshrew', 'Rattata', 'Abra', ('Feebas', 22)]\n"
     ]
    }
   ],
   "source": [
    "def create_party():\n",
    "    party.append(reserves[0])\n",
    "    print (party)\n",
    "    item = party.pop()\n",
    "    party.append(reserves[1])\n",
    "    print (party)\n",
    "    item = party.pop()\n",
    "    party.append(reserves[2])\n",
    "    print (party)\n",
    "    item = party.pop()\n",
    "create_party()\n",
    "\n",
    "#The used of append here is to add a single list which is on cell 2 the reserve variable, Then it combine it with cell 1 to create a party."
   ]
  },
  {
   "cell_type": "markdown",
   "metadata": {},
   "source": []
  }
 ],
 "metadata": {
  "kernelspec": {
   "display_name": "Python 3",
   "language": "python",
   "name": "python3"
  },
  "language_info": {
   "codemirror_mode": {
    "name": "ipython",
    "version": 3
   },
   "file_extension": ".py",
   "mimetype": "text/x-python",
   "name": "python",
   "nbconvert_exporter": "python",
   "pygments_lexer": "ipython3",
   "version": "3.8.3"
  }
 },
 "nbformat": 4,
 "nbformat_minor": 4
}
